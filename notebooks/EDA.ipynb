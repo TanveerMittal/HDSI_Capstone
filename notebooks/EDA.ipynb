{
 "cells": [
  {
   "cell_type": "code",
   "execution_count": 1,
   "metadata": {},
   "outputs": [],
   "source": [
    "import json\n",
    "import pandas as pd\n",
    "import matplotlib.pyplot as plt"
   ]
  },
  {
   "cell_type": "code",
   "execution_count": 16,
   "metadata": {},
   "outputs": [
    {
     "name": "stdout",
     "output_type": "stream",
     "text": [
      "# of claims in training data: 145449\n"
     ]
    },
    {
     "data": {
      "text/html": [
       "<div>\n",
       "<style scoped>\n",
       "    .dataframe tbody tr th:only-of-type {\n",
       "        vertical-align: middle;\n",
       "    }\n",
       "\n",
       "    .dataframe tbody tr th {\n",
       "        vertical-align: top;\n",
       "    }\n",
       "\n",
       "    .dataframe thead th {\n",
       "        text-align: right;\n",
       "    }\n",
       "</style>\n",
       "<table border=\"1\" class=\"dataframe\">\n",
       "  <thead>\n",
       "    <tr style=\"text-align: right;\">\n",
       "      <th></th>\n",
       "      <th>verifiable</th>\n",
       "      <th>label</th>\n",
       "      <th>claim</th>\n",
       "      <th>evidence</th>\n",
       "    </tr>\n",
       "    <tr>\n",
       "      <th>id</th>\n",
       "      <th></th>\n",
       "      <th></th>\n",
       "      <th></th>\n",
       "      <th></th>\n",
       "    </tr>\n",
       "  </thead>\n",
       "  <tbody>\n",
       "    <tr>\n",
       "      <th>3</th>\n",
       "      <td>VERIFIABLE</td>\n",
       "      <td>SUPPORTS</td>\n",
       "      <td>Chris Hemsworth appeared in A Perfect Getaway.</td>\n",
       "      <td>[[[15732, 19585, Chris_Hemsworth, 2]]]</td>\n",
       "    </tr>\n",
       "    <tr>\n",
       "      <th>4</th>\n",
       "      <td>NOT VERIFIABLE</td>\n",
       "      <td>NOT ENOUGH INFO</td>\n",
       "      <td>Chris Hemsworth disappeared in A Perfect Getaway.</td>\n",
       "      <td>[[[15230, None, None, None]]]</td>\n",
       "    </tr>\n",
       "    <tr>\n",
       "      <th>7</th>\n",
       "      <td>VERIFIABLE</td>\n",
       "      <td>SUPPORTS</td>\n",
       "      <td>Roald Dahl is a writer.</td>\n",
       "      <td>[[[15234, 18987, Roald_Dahl, 0]]]</td>\n",
       "    </tr>\n",
       "    <tr>\n",
       "      <th>8</th>\n",
       "      <td>VERIFIABLE</td>\n",
       "      <td>REFUTES</td>\n",
       "      <td>Roald Dahl is a governor.</td>\n",
       "      <td>[[[15233, 18986, Roald_Dahl, 0]]]</td>\n",
       "    </tr>\n",
       "    <tr>\n",
       "      <th>9</th>\n",
       "      <td>VERIFIABLE</td>\n",
       "      <td>SUPPORTS</td>\n",
       "      <td>Ireland has relatively low-lying mountains.</td>\n",
       "      <td>[[[15235, 18988, Ireland, 10]]]</td>\n",
       "    </tr>\n",
       "  </tbody>\n",
       "</table>\n",
       "</div>"
      ],
      "text/plain": [
       "        verifiable            label  \\\n",
       "id                                    \n",
       "3       VERIFIABLE         SUPPORTS   \n",
       "4   NOT VERIFIABLE  NOT ENOUGH INFO   \n",
       "7       VERIFIABLE         SUPPORTS   \n",
       "8       VERIFIABLE          REFUTES   \n",
       "9       VERIFIABLE         SUPPORTS   \n",
       "\n",
       "                                                claim  \\\n",
       "id                                                      \n",
       "3      Chris Hemsworth appeared in A Perfect Getaway.   \n",
       "4   Chris Hemsworth disappeared in A Perfect Getaway.   \n",
       "7                             Roald Dahl is a writer.   \n",
       "8                           Roald Dahl is a governor.   \n",
       "9         Ireland has relatively low-lying mountains.   \n",
       "\n",
       "                                  evidence  \n",
       "id                                          \n",
       "3   [[[15732, 19585, Chris_Hemsworth, 2]]]  \n",
       "4            [[[15230, None, None, None]]]  \n",
       "7        [[[15234, 18987, Roald_Dahl, 0]]]  \n",
       "8        [[[15233, 18986, Roald_Dahl, 0]]]  \n",
       "9          [[[15235, 18988, Ireland, 10]]]  "
      ]
     },
     "execution_count": 16,
     "metadata": {},
     "output_type": "execute_result"
    }
   ],
   "source": [
    "df = pd.DataFrame([json.loads(l.strip()) for l in open(\"../data/train.jsonl\").readlines()]).set_index(\"id\").sort_index()\n",
    "print(\"# of claims in training data:\", len(df))\n",
    "df.head()"
   ]
  },
  {
   "cell_type": "code",
   "execution_count": 21,
   "metadata": {},
   "outputs": [
    {
     "data": {
      "text/plain": [
       "verifiable                        NOT VERIFIABLE\n",
       "label                            NOT ENOUGH INFO\n",
       "claim         Ice is the biblical name of water.\n",
       "evidence           [[[34622, None, None, None]]]\n",
       "Name: 18986, dtype: object"
      ]
     },
     "execution_count": 21,
     "metadata": {},
     "output_type": "execute_result"
    }
   ],
   "source": [
    "df.loc[18986]"
   ]
  },
  {
   "cell_type": "code",
   "execution_count": 4,
   "metadata": {},
   "outputs": [
    {
     "data": {
      "text/plain": [
       "NOT ENOUGH INFO    35639\n",
       "Name: label, dtype: int64"
      ]
     },
     "execution_count": 4,
     "metadata": {},
     "output_type": "execute_result"
    }
   ],
   "source": [
    "df[df[\"verifiable\"] == \"NOT VERIFIABLE\"][\"label\"].value_counts()"
   ]
  },
  {
   "cell_type": "code",
   "execution_count": 5,
   "metadata": {},
   "outputs": [
    {
     "data": {
      "text/plain": [
       "SUPPORTS    80035\n",
       "REFUTES     29775\n",
       "Name: label, dtype: int64"
      ]
     },
     "execution_count": 5,
     "metadata": {},
     "output_type": "execute_result"
    }
   ],
   "source": [
    "df[df[\"verifiable\"] == \"VERIFIABLE\"][\"label\"].value_counts()"
   ]
  },
  {
   "cell_type": "code",
   "execution_count": 6,
   "metadata": {},
   "outputs": [
    {
     "data": {
      "image/png": "[encoded data removed]",
      "text/plain": [
       "<Figure size 432x288 with 1 Axes>"
      ]
     },
     "metadata": {
      "needs_background": "light"
     },
     "output_type": "display_data"
    }
   ],
   "source": [
    "# Data augmentation to add more refuting claims\n",
    "# Ask Eldridge about sampling data(Use public subset, or sample?)\n",
    "# If we sample, should we balance classes?\n",
    "label_counts = df[\"label\"].value_counts()\n",
    "plt.bar(label_counts.index, label_counts);"
   ]
  },
  {
   "cell_type": "code",
   "execution_count": 8,
   "metadata": {},
   "outputs": [
    {
     "data": {
      "text/plain": [
       "['{\"id\": \"\", \"text\": \"\", \"lines\": \"\"}\\n',\n",
       " '{\"id\": \"1928_in_association_football\", \"text\": \"The following are the football -LRB- soccer -RRB- events of the year 1928 throughout the world . \", \"lines\": \"0\\\\tThe following are the football -LRB- soccer -RRB- events of the year 1928 throughout the world .\\\\n1\\\\t\"}\\n',\n",
       " '{\"id\": \"1986_NBA_Finals\", \"text\": \"The 1986 NBA Finals was the championship round of the 1985 -- 86 NBA season . It pitted the Eastern Conference champion Boston Celtics against the Western Conference champion Houston Rockets , in a rematch of the 1981 Finals -LRB- only Allen Leavell and Robert Reid remained from the Rockets \\' 1981 team -RRB- . The Celtics defeated the Rockets four games to two to win their 16th NBA championship . The championship would be the Celtics \\' last until the 2008 NBA Finals . Larry Bird was named the Finals MVP .   On another note , this series marked the first time the `` NBA Finals \\'\\' branding was officially used , as they dropped the `` NBA World Championship Series \\'\\' branding which had been in use since the beginning of the league , though it had been unofficially called the `` NBA Finals \\'\\' for years .   Until the 2011 series , this was the last time the NBA Finals had started before June . Since game three , all NBA Finals games have been played in June . Starting with the following year , the NBA Finals would be held exclusively in the month of June . It was also the last NBA Finals series to schedule a game on a Monday until 1999 and also the last NBA Finals game to be played on Memorial Day .   CBS Sports used Dick Stockton and Tom Heinsohn as the play-by-play man and color commentator respectively . Meanwhile , Brent Musburger was the host and Pat O\\'Brien -LRB- the Rockets \\' sideline -RRB- and Lesley Visser -LRB- the Celtics \\' sideline -RRB- were the sideline reporters . \", \"lines\": \"0\\\\tThe 1986 NBA Finals was the championship round of the 1985 -- 86 NBA season .\\\\tNBA\\\\tNational Basketball Association\\\\n1\\\\tIt pitted the Eastern Conference champion Boston Celtics against the Western Conference champion Houston Rockets , in a rematch of the 1981 Finals -LRB- only Allen Leavell and Robert Reid remained from the Rockets \\' 1981 team -RRB- .\\\\tHouston Rockets\\\\tHouston Rockets\\\\tBoston Celtics\\\\tBoston Celtics\\\\tEastern Conference\\\\tEastern Conference (NBA)\\\\tWestern Conference\\\\tWestern Conference (NBA)\\\\tAllen Leavell\\\\tAllen Leavell\\\\tRobert Reid\\\\tRobert Reid (basketball)\\\\tRockets\\\\tHouston Rockets\\\\tCeltics\\\\tBoston Celtics\\\\n2\\\\tThe Celtics defeated the Rockets four games to two to win their 16th NBA championship .\\\\tNBA\\\\tNational Basketball Association\\\\tRockets\\\\tHouston Rockets\\\\tCeltics\\\\tBoston Celtics\\\\n3\\\\tThe championship would be the Celtics \\' last until the 2008 NBA Finals .\\\\tNBA\\\\tNational Basketball Association\\\\t2008 NBA Finals\\\\t2008 NBA Finals\\\\tCeltics\\\\tBoston Celtics\\\\n4\\\\tLarry Bird was named the Finals MVP .\\\\tLarry Bird\\\\tLarry Bird\\\\tFinals MVP\\\\tBill Russell NBA Finals Most Valuable Player Award\\\\n5\\\\t\\\\n6\\\\t\\\\n7\\\\tOn another note , this series marked the first time the `` NBA Finals \\'\\' branding was officially used , as they dropped the `` NBA World Championship Series \\'\\' branding which had been in use since the beginning of the league , though it had been unofficially called the `` NBA Finals \\'\\' for years .\\\\tNBA\\\\tNational Basketball Association\\\\n8\\\\t\\\\n9\\\\t\\\\n10\\\\tUntil the 2011 series , this was the last time the NBA Finals had started before June .\\\\tNBA\\\\tNational Basketball Association\\\\t2011\\\\t2011 NBA Finals\\\\n11\\\\tSince game three , all NBA Finals games have been played in June .\\\\tNBA\\\\tNational Basketball Association\\\\n12\\\\tStarting with the following year , the NBA Finals would be held exclusively in the month of June .\\\\tNBA\\\\tNational Basketball Association\\\\tthe following year\\\\t1987 NBA Finals\\\\n13\\\\tIt was also the last NBA Finals series to schedule a game on a Monday until 1999 and also the last NBA Finals game to be played on Memorial Day .\\\\tNBA\\\\tNational Basketball Association\\\\t1999\\\\t1999 NBA Finals\\\\tMemorial Day\\\\tMemorial Day\\\\n14\\\\t\\\\n15\\\\t\\\\n16\\\\tCBS Sports used Dick Stockton and Tom Heinsohn as the play-by-play man and color commentator respectively .\\\\tCBS\\\\tNBA on CBS\\\\tDick Stockton\\\\tDick Stockton\\\\tTom Heinsohn\\\\tTom Heinsohn\\\\tCBS Sports\\\\tNBA on CBS\\\\n17\\\\tMeanwhile , Brent Musburger was the host and Pat O\\'Brien -LRB- the Rockets \\' sideline -RRB- and Lesley Visser -LRB- the Celtics \\' sideline -RRB- were the sideline reporters .\\\\tBrent Musburger\\\\tBrent Musburger\\\\tPat O\\'Brien\\\\tPat O\\'Brien (television)\\\\tRockets\\\\tHouston Rockets\\\\tLesley Visser\\\\tLesley Visser\\\\tCeltics\\\\tBoston Celtics\\\\n18\\\\t\"}\\n',\n",
       " '{\"id\": \"1901_Villanova_Wildcats_football_team\", \"text\": \"The 1901 Villanova Wildcats football team represented the Villanova University during the 1901 college football season . The Wildcats team captain was John J. Egan . \", \"lines\": \"0\\\\tThe 1901 Villanova Wildcats football team represented the Villanova University during the 1901 college football season .\\\\tVillanova University\\\\tVillanova University\\\\t1901 college football season\\\\t1901 college football season\\\\n1\\\\tThe Wildcats team captain was John J. Egan .\\\\tJohn J. Egan\\\\tJohn J. Egan\\\\n2\\\\t\"}\\n',\n",
       " '{\"id\": \"1992_Northwestern_Wildcats_football_team\", \"text\": \"The 1992 Northwestern Wildcats team represented Northwestern University during the 1992 NCAA Division I-A football season . In their first year under head coach Gary Barnett , the Wildcats compiled a 3 -- 8 record -LRB- 3 -- 5 against Big Ten Conference opponents -RRB- and finished in ninth place in the Big Ten Conference .   The team \\'s offensive leaders were quarterback Len Williams with 2,110 passing yards , Dennis Lundy with 688 rushing yards , and Lee Gissendaner with 846 receiving yards . Gissendaner was also selected by the Associated Press as a first-team wide receiver on the 1992 All-Big Ten Conference football team . \", \"lines\": \"0\\\\tThe 1992 Northwestern Wildcats team represented Northwestern University during the 1992 NCAA Division I-A football season .\\\\tNorthwestern University\\\\tNorthwestern University\\\\t1992 NCAA Division I-A football season\\\\t1992 NCAA Division I-A football season\\\\n1\\\\tIn their first year under head coach Gary Barnett , the Wildcats compiled a 3 -- 8 record -LRB- 3 -- 5 against Big Ten Conference opponents -RRB- and finished in ninth place in the Big Ten Conference .\\\\tGary Barnett\\\\tGary Barnett\\\\tBig Ten Conference\\\\tBig Ten Conference\\\\n2\\\\t\\\\n3\\\\t\\\\n4\\\\tThe team \\'s offensive leaders were quarterback Len Williams with 2,110 passing yards , Dennis Lundy with 688 rushing yards , and Lee Gissendaner with 846 receiving yards .\\\\tLee Gissendaner\\\\tLee Gissendaner\\\\n5\\\\tGissendaner was also selected by the Associated Press as a first-team wide receiver on the 1992 All-Big Ten Conference football team .\\\\tBig Ten Conference\\\\tBig Ten Conference\\\\tAssociated Press\\\\tAssociated Press\\\\t1992 All-Big Ten Conference football team\\\\t1992 All-Big Ten Conference football team\\\\n6\\\\t\"}\\n',\n",
       " '{\"id\": \"1897_Princeton_Tigers_football_team\", \"text\": \"The 1897 Princeton Tigers football team represented Princeton University in the 1897 college football season . The team finished with a 10 -- 1 record . The Tigers won their first ten games by a combined score of 339 to 0 , but then lost the last game of the season by a 6 -- 0 score against Yale . Two Princeton players , halfback Addison Kelly and end Garrett Cochran , were consensus first-team honorees on the 1897 College Football All-America Team . \", \"lines\": \"0\\\\tThe 1897 Princeton Tigers football team represented Princeton University in the 1897 college football season .\\\\tPrinceton University\\\\tPrinceton University\\\\t1897 college football season\\\\t1897 college football season\\\\n1\\\\tThe team finished with a 10 -- 1 record .\\\\n2\\\\tThe Tigers won their first ten games by a combined score of 339 to 0 , but then lost the last game of the season by a 6 -- 0 score against Yale .\\\\tYale\\\\t1897 Yale Bulldogs football team\\\\n3\\\\tTwo Princeton players , halfback Addison Kelly and end Garrett Cochran , were consensus first-team honorees on the 1897 College Football All-America Team .\\\\tGarrett Cochran\\\\tGarrett Cochran\\\\tAddison Kelly\\\\tAddison Kelly\\\\t1897 College Football All-America Team\\\\t1897 College Football All-America Team\\\\n4\\\\t\"}\\n',\n",
       " '{\"id\": \"1536_in_philosophy\", \"text\": \"1536 in philosophy \", \"lines\": \"0\\\\t1536 in philosophy\\\\tphilosophy\\\\tphilosophy\\\\n1\\\\t\"}\\n',\n",
       " '{\"id\": \"...Di_terra\", \"text\": \"... di terra is the eighth studio album by Italian progressive rock band Banco -LRB- previously called Banco del Mutuo Soccorso -RRB- . It \\'s an entirely instrumental work , recorded together with Orchestra dell ` Unione Musicisti di Roma . The album title , which translates to `` of earth , \\'\\' is based on a poem by Francesco Di Giacomo , and every song title is a line from the poem . \", \"lines\": \"0\\\\t... di terra is the eighth studio album by Italian progressive rock band Banco -LRB- previously called Banco del Mutuo Soccorso -RRB- .\\\\tBanco\\\\tBanco del Mutuo Soccorso\\\\tItalian\\\\tItaly\\\\tprogressive rock\\\\tprogressive rock\\\\tBanco del Mutuo Soccorso\\\\tBanco del Mutuo Soccorso\\\\n1\\\\tIt \\'s an entirely instrumental work , recorded together with Orchestra dell ` Unione Musicisti di Roma .\\\\tinstrumental\\\\tinstrumental\\\\n2\\\\tThe album title , which translates to `` of earth , \\'\\' is based on a poem by Francesco Di Giacomo , and every song title is a line from the poem .\\\\n3\\\\t\"}\\n',\n",
       " '{\"id\": \"1967\\\\u201368_MJHL_season\", \"text\": \"On March 14 , 1968 , at home in St. James , the St. James Canadians corralled the Manitoba Junior Hockey League championship , and on March 26 , in Selkirk , the Canadians captured the Turnbull Cup defeating the Central Manitoba Junior Hockey League champions Selkirk Steelers . \", \"lines\": \"0\\\\tOn March 14 , 1968 , at home in St. James , the St. James Canadians corralled the Manitoba Junior Hockey League championship , and on March 26 , in Selkirk , the Canadians captured the Turnbull Cup defeating the Central Manitoba Junior Hockey League champions Selkirk Steelers .\\\\tSt. James\\\\tSt. James, Winnipeg, Manitoba, Canada\\\\tManitoba Junior Hockey League\\\\tManitoba Junior Hockey League\\\\tSelkirk\\\\tSelkirk, Manitoba\\\\tCentral Manitoba Junior Hockey League\\\\tCentral Manitoba Junior Hockey League\\\\tSelkirk Steelers\\\\tSelkirk Steelers\\\\n1\\\\t\"}\\n',\n",
       " '{\"id\": \"1941_in_paleontology\", \"text\": \"\", \"lines\": \"\"}\\n']"
      ]
     },
     "execution_count": 8,
     "metadata": {},
     "output_type": "execute_result"
    }
   ],
   "source": [
    "open(\"../data/wiki-pages/wiki-001.jsonl\").readlines()[:10]"
   ]
  },
  {
   "cell_type": "code",
   "execution_count": 9,
   "metadata": {},
   "outputs": [
    {
     "name": "stdout",
     "output_type": "stream",
     "text": [
      "# of claims in training data: 9999\n"
     ]
    },
    {
     "data": {
      "text/html": [
       "<div>\n",
       "<style scoped>\n",
       "    .dataframe tbody tr th:only-of-type {\n",
       "        vertical-align: middle;\n",
       "    }\n",
       "\n",
       "    .dataframe tbody tr th {\n",
       "        vertical-align: top;\n",
       "    }\n",
       "\n",
       "    .dataframe thead th {\n",
       "        text-align: right;\n",
       "    }\n",
       "</style>\n",
       "<table border=\"1\" class=\"dataframe\">\n",
       "  <thead>\n",
       "    <tr style=\"text-align: right;\">\n",
       "      <th></th>\n",
       "      <th>id</th>\n",
       "      <th>verifiable</th>\n",
       "      <th>label</th>\n",
       "      <th>claim</th>\n",
       "      <th>evidence</th>\n",
       "    </tr>\n",
       "  </thead>\n",
       "  <tbody>\n",
       "    <tr>\n",
       "      <th>0</th>\n",
       "      <td>91198</td>\n",
       "      <td>NOT VERIFIABLE</td>\n",
       "      <td>NOT ENOUGH INFO</td>\n",
       "      <td>Colin Kaepernick became a starting quarterback...</td>\n",
       "      <td>[[[108548, None, None, None]]]</td>\n",
       "    </tr>\n",
       "    <tr>\n",
       "      <th>1</th>\n",
       "      <td>194462</td>\n",
       "      <td>NOT VERIFIABLE</td>\n",
       "      <td>NOT ENOUGH INFO</td>\n",
       "      <td>Tilda Swinton is a vegan.</td>\n",
       "      <td>[[[227768, None, None, None]]]</td>\n",
       "    </tr>\n",
       "    <tr>\n",
       "      <th>2</th>\n",
       "      <td>137334</td>\n",
       "      <td>VERIFIABLE</td>\n",
       "      <td>SUPPORTS</td>\n",
       "      <td>Fox 2000 Pictures released the film Soul Food.</td>\n",
       "      <td>[[[289914, 283015, Soul_Food_-LRB-film-RRB-, 0...</td>\n",
       "    </tr>\n",
       "    <tr>\n",
       "      <th>3</th>\n",
       "      <td>166626</td>\n",
       "      <td>NOT VERIFIABLE</td>\n",
       "      <td>NOT ENOUGH INFO</td>\n",
       "      <td>Anne Rice was born in New Jersey.</td>\n",
       "      <td>[[[191656, None, None, None], [191657, None, N...</td>\n",
       "    </tr>\n",
       "    <tr>\n",
       "      <th>4</th>\n",
       "      <td>111897</td>\n",
       "      <td>VERIFIABLE</td>\n",
       "      <td>REFUTES</td>\n",
       "      <td>Telemundo is a English-language television net...</td>\n",
       "      <td>[[[131371, 146144, Telemundo, 0]], [[131371, 1...</td>\n",
       "    </tr>\n",
       "  </tbody>\n",
       "</table>\n",
       "</div>"
      ],
      "text/plain": [
       "       id      verifiable            label  \\\n",
       "0   91198  NOT VERIFIABLE  NOT ENOUGH INFO   \n",
       "1  194462  NOT VERIFIABLE  NOT ENOUGH INFO   \n",
       "2  137334      VERIFIABLE         SUPPORTS   \n",
       "3  166626  NOT VERIFIABLE  NOT ENOUGH INFO   \n",
       "4  111897      VERIFIABLE          REFUTES   \n",
       "\n",
       "                                               claim  \\\n",
       "0  Colin Kaepernick became a starting quarterback...   \n",
       "1                          Tilda Swinton is a vegan.   \n",
       "2     Fox 2000 Pictures released the film Soul Food.   \n",
       "3                  Anne Rice was born in New Jersey.   \n",
       "4  Telemundo is a English-language television net...   \n",
       "\n",
       "                                            evidence  \n",
       "0                     [[[108548, None, None, None]]]  \n",
       "1                     [[[227768, None, None, None]]]  \n",
       "2  [[[289914, 283015, Soul_Food_-LRB-film-RRB-, 0...  \n",
       "3  [[[191656, None, None, None], [191657, None, N...  \n",
       "4  [[[131371, 146144, Telemundo, 0]], [[131371, 1...  "
      ]
     },
     "execution_count": 9,
     "metadata": {},
     "output_type": "execute_result"
    }
   ],
   "source": [
    "df = pd.DataFrame([json.loads(l.strip()) for l in open(\"../data/paper_dev.jsonl\").readlines()])\n",
    "print(\"# of claims in training data:\", len(df))\n",
    "df.head()"
   ]
  },
  {
   "cell_type": "code",
   "execution_count": 10,
   "metadata": {},
   "outputs": [
    {
     "data": {
      "text/plain": [
       "<matplotlib.axes._subplots.AxesSubplot at 0x7f77b4265ad0>"
      ]
     },
     "execution_count": 10,
     "metadata": {},
     "output_type": "execute_result"
    },
    {
     "data": {
      "image/png": "[encoded data removed]",
      "text/plain": [
       "<Figure size 432x288 with 1 Axes>"
      ]
     },
     "metadata": {
      "needs_background": "light"
     },
     "output_type": "display_data"
    }
   ],
   "source": [
    "df[\"label\"].hist()"
   ]
  },
  {
   "cell_type": "code",
   "execution_count": null,
   "metadata": {},
   "outputs": [],
   "source": []
  }
 ],
 "metadata": {
  "kernelspec": {
   "display_name": "Python 3",
   "language": "python",
   "name": "python3"
  },
  "language_info": {
   "codemirror_mode": {
    "name": "ipython",
    "version": 3
   },
   "file_extension": ".py",
   "mimetype": "text/x-python",
   "name": "python",
   "nbconvert_exporter": "python",
   "pygments_lexer": "ipython3",
   "version": "3.7.6"
  }
 },
 "nbformat": 4,
 "nbformat_minor": 4
}
