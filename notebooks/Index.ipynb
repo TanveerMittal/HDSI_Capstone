{
 "cells": [
  {
   "cell_type": "code",
   "execution_count": 11,
   "metadata": {},
   "outputs": [],
   "source": [
    "import json\n",
    "import pickle\n",
    "import pandas as pd\n",
    "from glob import glob\n",
    "import matplotlib.pyplot as plt"
   ]
  },
  {
   "cell_type": "code",
   "execution_count": 2,
   "metadata": {},
   "outputs": [
    {
     "name": "stdout",
     "output_type": "stream",
     "text": [
      "# of claims in training data: 145449\n"
     ]
    },
    {
     "data": {
      "text/html": [
       "<div>\n",
       "<style scoped>\n",
       "    .dataframe tbody tr th:only-of-type {\n",
       "        vertical-align: middle;\n",
       "    }\n",
       "\n",
       "    .dataframe tbody tr th {\n",
       "        vertical-align: top;\n",
       "    }\n",
       "\n",
       "    .dataframe thead th {\n",
       "        text-align: right;\n",
       "    }\n",
       "</style>\n",
       "<table border=\"1\" class=\"dataframe\">\n",
       "  <thead>\n",
       "    <tr style=\"text-align: right;\">\n",
       "      <th></th>\n",
       "      <th>verifiable</th>\n",
       "      <th>label</th>\n",
       "      <th>claim</th>\n",
       "      <th>evidence</th>\n",
       "    </tr>\n",
       "    <tr>\n",
       "      <th>id</th>\n",
       "      <th></th>\n",
       "      <th></th>\n",
       "      <th></th>\n",
       "      <th></th>\n",
       "    </tr>\n",
       "  </thead>\n",
       "  <tbody>\n",
       "    <tr>\n",
       "      <th>3</th>\n",
       "      <td>VERIFIABLE</td>\n",
       "      <td>SUPPORTS</td>\n",
       "      <td>Chris Hemsworth appeared in A Perfect Getaway.</td>\n",
       "      <td>[[[15732, 19585, Chris_Hemsworth, 2]]]</td>\n",
       "    </tr>\n",
       "    <tr>\n",
       "      <th>4</th>\n",
       "      <td>NOT VERIFIABLE</td>\n",
       "      <td>NOT ENOUGH INFO</td>\n",
       "      <td>Chris Hemsworth disappeared in A Perfect Getaway.</td>\n",
       "      <td>[[[15230, None, None, None]]]</td>\n",
       "    </tr>\n",
       "    <tr>\n",
       "      <th>7</th>\n",
       "      <td>VERIFIABLE</td>\n",
       "      <td>SUPPORTS</td>\n",
       "      <td>Roald Dahl is a writer.</td>\n",
       "      <td>[[[15234, 18987, Roald_Dahl, 0]]]</td>\n",
       "    </tr>\n",
       "    <tr>\n",
       "      <th>8</th>\n",
       "      <td>VERIFIABLE</td>\n",
       "      <td>REFUTES</td>\n",
       "      <td>Roald Dahl is a governor.</td>\n",
       "      <td>[[[15233, 18986, Roald_Dahl, 0]]]</td>\n",
       "    </tr>\n",
       "    <tr>\n",
       "      <th>9</th>\n",
       "      <td>VERIFIABLE</td>\n",
       "      <td>SUPPORTS</td>\n",
       "      <td>Ireland has relatively low-lying mountains.</td>\n",
       "      <td>[[[15235, 18988, Ireland, 10]]]</td>\n",
       "    </tr>\n",
       "  </tbody>\n",
       "</table>\n",
       "</div>"
      ],
      "text/plain": [
       "        verifiable            label  \\\n",
       "id                                    \n",
       "3       VERIFIABLE         SUPPORTS   \n",
       "4   NOT VERIFIABLE  NOT ENOUGH INFO   \n",
       "7       VERIFIABLE         SUPPORTS   \n",
       "8       VERIFIABLE          REFUTES   \n",
       "9       VERIFIABLE         SUPPORTS   \n",
       "\n",
       "                                                claim  \\\n",
       "id                                                      \n",
       "3      Chris Hemsworth appeared in A Perfect Getaway.   \n",
       "4   Chris Hemsworth disappeared in A Perfect Getaway.   \n",
       "7                             Roald Dahl is a writer.   \n",
       "8                           Roald Dahl is a governor.   \n",
       "9         Ireland has relatively low-lying mountains.   \n",
       "\n",
       "                                  evidence  \n",
       "id                                          \n",
       "3   [[[15732, 19585, Chris_Hemsworth, 2]]]  \n",
       "4            [[[15230, None, None, None]]]  \n",
       "7        [[[15234, 18987, Roald_Dahl, 0]]]  \n",
       "8        [[[15233, 18986, Roald_Dahl, 0]]]  \n",
       "9          [[[15235, 18988, Ireland, 10]]]  "
      ]
     },
     "execution_count": 2,
     "metadata": {},
     "output_type": "execute_result"
    }
   ],
   "source": [
    "df = pd.DataFrame([json.loads(l.strip()) for l in open(\"../data/train.jsonl\").readlines()]).set_index(\"id\").sort_index()\n",
    "print(\"# of claims in training data:\", len(df))\n",
    "df.head()"
   ]
  },
  {
   "cell_type": "code",
   "execution_count": 10,
   "metadata": {},
   "outputs": [
    {
     "data": {
      "text/plain": [
       "['{\"id\": \"\", \"text\": \"\", \"lines\": \"\"}',\n",
       " '{\"id\": \"1928_in_association_football\", \"text\": \"The following are the football -LRB- soccer -RRB- events of the year 1928 throughout the world . \", \"lines\": \"0\\\\tThe following are the football -LRB- soccer -RRB- events of the year 1928 throughout the world .\\\\n1\\\\t\"}',\n",
       " '{\"id\": \"1986_NBA_Finals\", \"text\": \"The 1986 NBA Finals was the championship round of the 1985 -- 86 NBA season . It pitted the Eastern Conference champion Boston Celtics against the Western Conference champion Houston Rockets , in a rematch of the 1981 Finals -LRB- only Allen Leavell and Robert Reid remained from the Rockets \\' 1981 team -RRB- . The Celtics defeated the Rockets four games to two to win their 16th NBA championship . The championship would be the Celtics \\' last until the 2008 NBA Finals . Larry Bird was named the Finals MVP .   On another note , this series marked the first time the `` NBA Finals \\'\\' branding was officially used , as they dropped the `` NBA World Championship Series \\'\\' branding which had been in use since the beginning of the league , though it had been unofficially called the `` NBA Finals \\'\\' for years .   Until the 2011 series , this was the last time the NBA Finals had started before June . Since game three , all NBA Finals games have been played in June . Starting with the following year , the NBA Finals would be held exclusively in the month of June . It was also the last NBA Finals series to schedule a game on a Monday until 1999 and also the last NBA Finals game to be played on Memorial Day .   CBS Sports used Dick Stockton and Tom Heinsohn as the play-by-play man and color commentator respectively . Meanwhile , Brent Musburger was the host and Pat O\\'Brien -LRB- the Rockets \\' sideline -RRB- and Lesley Visser -LRB- the Celtics \\' sideline -RRB- were the sideline reporters . \", \"lines\": \"0\\\\tThe 1986 NBA Finals was the championship round of the 1985 -- 86 NBA season .\\\\tNBA\\\\tNational Basketball Association\\\\n1\\\\tIt pitted the Eastern Conference champion Boston Celtics against the Western Conference champion Houston Rockets , in a rematch of the 1981 Finals -LRB- only Allen Leavell and Robert Reid remained from the Rockets \\' 1981 team -RRB- .\\\\tHouston Rockets\\\\tHouston Rockets\\\\tBoston Celtics\\\\tBoston Celtics\\\\tEastern Conference\\\\tEastern Conference (NBA)\\\\tWestern Conference\\\\tWestern Conference (NBA)\\\\tAllen Leavell\\\\tAllen Leavell\\\\tRobert Reid\\\\tRobert Reid (basketball)\\\\tRockets\\\\tHouston Rockets\\\\tCeltics\\\\tBoston Celtics\\\\n2\\\\tThe Celtics defeated the Rockets four games to two to win their 16th NBA championship .\\\\tNBA\\\\tNational Basketball Association\\\\tRockets\\\\tHouston Rockets\\\\tCeltics\\\\tBoston Celtics\\\\n3\\\\tThe championship would be the Celtics \\' last until the 2008 NBA Finals .\\\\tNBA\\\\tNational Basketball Association\\\\t2008 NBA Finals\\\\t2008 NBA Finals\\\\tCeltics\\\\tBoston Celtics\\\\n4\\\\tLarry Bird was named the Finals MVP .\\\\tLarry Bird\\\\tLarry Bird\\\\tFinals MVP\\\\tBill Russell NBA Finals Most Valuable Player Award\\\\n5\\\\t\\\\n6\\\\t\\\\n7\\\\tOn another note , this series marked the first time the `` NBA Finals \\'\\' branding was officially used , as they dropped the `` NBA World Championship Series \\'\\' branding which had been in use since the beginning of the league , though it had been unofficially called the `` NBA Finals \\'\\' for years .\\\\tNBA\\\\tNational Basketball Association\\\\n8\\\\t\\\\n9\\\\t\\\\n10\\\\tUntil the 2011 series , this was the last time the NBA Finals had started before June .\\\\tNBA\\\\tNational Basketball Association\\\\t2011\\\\t2011 NBA Finals\\\\n11\\\\tSince game three , all NBA Finals games have been played in June .\\\\tNBA\\\\tNational Basketball Association\\\\n12\\\\tStarting with the following year , the NBA Finals would be held exclusively in the month of June .\\\\tNBA\\\\tNational Basketball Association\\\\tthe following year\\\\t1987 NBA Finals\\\\n13\\\\tIt was also the last NBA Finals series to schedule a game on a Monday until 1999 and also the last NBA Finals game to be played on Memorial Day .\\\\tNBA\\\\tNational Basketball Association\\\\t1999\\\\t1999 NBA Finals\\\\tMemorial Day\\\\tMemorial Day\\\\n14\\\\t\\\\n15\\\\t\\\\n16\\\\tCBS Sports used Dick Stockton and Tom Heinsohn as the play-by-play man and color commentator respectively .\\\\tCBS\\\\tNBA on CBS\\\\tDick Stockton\\\\tDick Stockton\\\\tTom Heinsohn\\\\tTom Heinsohn\\\\tCBS Sports\\\\tNBA on CBS\\\\n17\\\\tMeanwhile , Brent Musburger was the host and Pat O\\'Brien -LRB- the Rockets \\' sideline -RRB- and Lesley Visser -LRB- the Celtics \\' sideline -RRB- were the sideline reporters .\\\\tBrent Musburger\\\\tBrent Musburger\\\\tPat O\\'Brien\\\\tPat O\\'Brien (television)\\\\tRockets\\\\tHouston Rockets\\\\tLesley Visser\\\\tLesley Visser\\\\tCeltics\\\\tBoston Celtics\\\\n18\\\\t\"}']"
      ]
     },
     "execution_count": 10,
     "metadata": {},
     "output_type": "execute_result"
    }
   ],
   "source": [
    "open(\"../data/wiki-pages/wiki-001.jsonl\").read().splitlines()[:3]"
   ]
  },
  {
   "cell_type": "code",
   "execution_count": 19,
   "metadata": {},
   "outputs": [],
   "source": [
    "index = {}\n",
    "for path in glob(\"../data/wiki-pages/*\"):\n",
    "    file = path.split(\"/\")[-1][:-1]\n",
    "    wiki = open(path).read().splitlines()\n",
    "    reindex = {}\n",
    "    for page in wiki:\n",
    "        page = eval(page)\n",
    "        page_id = page[\"id\"]\n",
    "        page.pop('id', None)\n",
    "        if page_id == \"\":\n",
    "            continue\n",
    "        index[page_id] = file\n",
    "        reindex[page_id] = page\n",
    "    json.dump(reindex, open(\"../data/wiki-indexed/%s\" % file, \"w\"))\n",
    "json.dump(index, open(\"../data/wiki-index.json\", \"w\"))"
   ]
  },
  {
   "cell_type": "code",
   "execution_count": 20,
   "metadata": {},
   "outputs": [
    {
     "data": {
      "text/plain": [
       "5416536"
      ]
     },
     "execution_count": 20,
     "metadata": {},
     "output_type": "execute_result"
    }
   ],
   "source": [
    "len(index)"
   ]
  },
  {
   "cell_type": "code",
   "execution_count": null,
   "metadata": {},
   "outputs": [],
   "source": []
  }
 ],
 "metadata": {
  "kernelspec": {
   "display_name": "Python 3",
   "language": "python",
   "name": "python3"
  },
  "language_info": {
   "codemirror_mode": {
    "name": "ipython",
    "version": 3
   },
   "file_extension": ".py",
   "mimetype": "text/x-python",
   "name": "python",
   "nbconvert_exporter": "python",
   "pygments_lexer": "ipython3",
   "version": "3.7.6"
  }
 },
 "nbformat": 4,
 "nbformat_minor": 4
}
